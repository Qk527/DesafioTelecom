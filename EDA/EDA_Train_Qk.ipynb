{
 "cells": [
  {
   "cell_type": "markdown",
   "id": "irish-insert",
   "metadata": {},
   "source": [
    "Registro de visualizaciones"
   ]
  },
  {
   "cell_type": "code",
   "execution_count": 1,
   "id": "foster-merchant",
   "metadata": {},
   "outputs": [],
   "source": [
    "import pandas as pd\n",
    "df_train = pd.read_csv(r'C:\\Users\\MegaTecnologia\\Desktop\\DesafioTelecom\\Data\\train.csv')"
   ]
  },
  {
   "cell_type": "code",
   "execution_count": 2,
   "id": "starting-segment",
   "metadata": {},
   "outputs": [
    {
     "data": {
      "text/html": [
       "<div>\n",
       "<style scoped>\n",
       "    .dataframe tbody tr th:only-of-type {\n",
       "        vertical-align: middle;\n",
       "    }\n",
       "\n",
       "    .dataframe tbody tr th {\n",
       "        vertical-align: top;\n",
       "    }\n",
       "\n",
       "    .dataframe thead th {\n",
       "        text-align: right;\n",
       "    }\n",
       "</style>\n",
       "<table border=\"1\" class=\"dataframe\">\n",
       "  <thead>\n",
       "    <tr style=\"text-align: right;\">\n",
       "      <th></th>\n",
       "      <th>customer_id</th>\n",
       "      <th>account_id</th>\n",
       "      <th>device_type</th>\n",
       "      <th>asset_id</th>\n",
       "      <th>tunein</th>\n",
       "      <th>tuneout</th>\n",
       "      <th>resume</th>\n",
       "    </tr>\n",
       "  </thead>\n",
       "  <tbody>\n",
       "    <tr>\n",
       "      <th>0</th>\n",
       "      <td>0</td>\n",
       "      <td>90627</td>\n",
       "      <td>STATIONARY</td>\n",
       "      <td>18332.0</td>\n",
       "      <td>2021-02-18 22:52:00.0</td>\n",
       "      <td>2021-02-18 23:35:00.0</td>\n",
       "      <td>0</td>\n",
       "    </tr>\n",
       "    <tr>\n",
       "      <th>1</th>\n",
       "      <td>0</td>\n",
       "      <td>90627</td>\n",
       "      <td>STATIONARY</td>\n",
       "      <td>24727.0</td>\n",
       "      <td>2021-03-24 23:17:00.0</td>\n",
       "      <td>2021-03-25 00:01:00.0</td>\n",
       "      <td>0</td>\n",
       "    </tr>\n",
       "    <tr>\n",
       "      <th>2</th>\n",
       "      <td>1</td>\n",
       "      <td>3387</td>\n",
       "      <td>STB</td>\n",
       "      <td>895.0</td>\n",
       "      <td>2021-03-15 10:05:00.0</td>\n",
       "      <td>2021-03-15 10:23:00.0</td>\n",
       "      <td>0</td>\n",
       "    </tr>\n",
       "    <tr>\n",
       "      <th>3</th>\n",
       "      <td>1</td>\n",
       "      <td>3387</td>\n",
       "      <td>STB</td>\n",
       "      <td>895.0</td>\n",
       "      <td>2021-03-15 10:23:00.0</td>\n",
       "      <td>2021-03-15 11:18:00.0</td>\n",
       "      <td>1</td>\n",
       "    </tr>\n",
       "    <tr>\n",
       "      <th>4</th>\n",
       "      <td>1</td>\n",
       "      <td>3387</td>\n",
       "      <td>STB</td>\n",
       "      <td>26062.0</td>\n",
       "      <td>2021-03-16 09:24:00.0</td>\n",
       "      <td>2021-03-16 09:44:00.0</td>\n",
       "      <td>0</td>\n",
       "    </tr>\n",
       "    <tr>\n",
       "      <th>5</th>\n",
       "      <td>1</td>\n",
       "      <td>3387</td>\n",
       "      <td>STB</td>\n",
       "      <td>26062.0</td>\n",
       "      <td>2021-03-16 09:44:00.0</td>\n",
       "      <td>2021-03-16 09:47:00.0</td>\n",
       "      <td>0</td>\n",
       "    </tr>\n",
       "    <tr>\n",
       "      <th>6</th>\n",
       "      <td>2</td>\n",
       "      <td>3388</td>\n",
       "      <td>STB</td>\n",
       "      <td>30840.0</td>\n",
       "      <td>2021-01-01 02:22:00.0</td>\n",
       "      <td>2021-01-01 02:34:00.0</td>\n",
       "      <td>1</td>\n",
       "    </tr>\n",
       "    <tr>\n",
       "      <th>7</th>\n",
       "      <td>2</td>\n",
       "      <td>3388</td>\n",
       "      <td>STB</td>\n",
       "      <td>30840.0</td>\n",
       "      <td>2021-01-02 01:02:00.0</td>\n",
       "      <td>2021-01-02 01:08:00.0</td>\n",
       "      <td>1</td>\n",
       "    </tr>\n",
       "    <tr>\n",
       "      <th>8</th>\n",
       "      <td>2</td>\n",
       "      <td>3388</td>\n",
       "      <td>STB</td>\n",
       "      <td>13180.0</td>\n",
       "      <td>2021-01-02 01:08:00.0</td>\n",
       "      <td>2021-01-02 01:21:00.0</td>\n",
       "      <td>0</td>\n",
       "    </tr>\n",
       "    <tr>\n",
       "      <th>9</th>\n",
       "      <td>2</td>\n",
       "      <td>3388</td>\n",
       "      <td>STB</td>\n",
       "      <td>13180.0</td>\n",
       "      <td>2021-01-04 01:32:00.0</td>\n",
       "      <td>2021-01-04 01:35:00.0</td>\n",
       "      <td>1</td>\n",
       "    </tr>\n",
       "  </tbody>\n",
       "</table>\n",
       "</div>"
      ],
      "text/plain": [
       "   customer_id  account_id device_type  asset_id                 tunein  \\\n",
       "0            0       90627  STATIONARY   18332.0  2021-02-18 22:52:00.0   \n",
       "1            0       90627  STATIONARY   24727.0  2021-03-24 23:17:00.0   \n",
       "2            1        3387         STB     895.0  2021-03-15 10:05:00.0   \n",
       "3            1        3387         STB     895.0  2021-03-15 10:23:00.0   \n",
       "4            1        3387         STB   26062.0  2021-03-16 09:24:00.0   \n",
       "5            1        3387         STB   26062.0  2021-03-16 09:44:00.0   \n",
       "6            2        3388         STB   30840.0  2021-01-01 02:22:00.0   \n",
       "7            2        3388         STB   30840.0  2021-01-02 01:02:00.0   \n",
       "8            2        3388         STB   13180.0  2021-01-02 01:08:00.0   \n",
       "9            2        3388         STB   13180.0  2021-01-04 01:32:00.0   \n",
       "\n",
       "                 tuneout  resume  \n",
       "0  2021-02-18 23:35:00.0       0  \n",
       "1  2021-03-25 00:01:00.0       0  \n",
       "2  2021-03-15 10:23:00.0       0  \n",
       "3  2021-03-15 11:18:00.0       1  \n",
       "4  2021-03-16 09:44:00.0       0  \n",
       "5  2021-03-16 09:47:00.0       0  \n",
       "6  2021-01-01 02:34:00.0       1  \n",
       "7  2021-01-02 01:08:00.0       1  \n",
       "8  2021-01-02 01:21:00.0       0  \n",
       "9  2021-01-04 01:35:00.0       1  "
      ]
     },
     "execution_count": 2,
     "metadata": {},
     "output_type": "execute_result"
    }
   ],
   "source": [
    "df_train.head(10)"
   ]
  },
  {
   "cell_type": "code",
   "execution_count": 3,
   "id": "exceptional-variation",
   "metadata": {},
   "outputs": [
    {
     "name": "stdout",
     "output_type": "stream",
     "text": [
      "<class 'pandas.core.frame.DataFrame'>\n",
      "RangeIndex: 3657801 entries, 0 to 3657800\n",
      "Data columns (total 7 columns):\n",
      " #   Column       Dtype  \n",
      "---  ------       -----  \n",
      " 0   customer_id  int64  \n",
      " 1   account_id   int64  \n",
      " 2   device_type  object \n",
      " 3   asset_id     float64\n",
      " 4   tunein       object \n",
      " 5   tuneout      object \n",
      " 6   resume       int64  \n",
      "dtypes: float64(1), int64(3), object(3)\n",
      "memory usage: 195.3+ MB\n"
     ]
    }
   ],
   "source": [
    "df_train.info()"
   ]
  },
  {
   "cell_type": "code",
   "execution_count": 4,
   "id": "fitted-differential",
   "metadata": {},
   "outputs": [
    {
     "data": {
      "text/plain": [
       "True"
      ]
     },
     "execution_count": 4,
     "metadata": {},
     "output_type": "execute_result"
    }
   ],
   "source": [
    "#Vemos si hay nulls que nos vayan a romper alguna predicción\n",
    "df_train.isnull().values.any()"
   ]
  },
  {
   "cell_type": "code",
   "execution_count": 5,
   "id": "billion-initial",
   "metadata": {},
   "outputs": [
    {
     "data": {
      "text/plain": [
       "Int64Index([ 106890,  120175,  146642,  219038,  249196,  484894,  528885,\n",
       "             666823,  726181,  737730,  737731,  737732,  863794,  931142,\n",
       "            1020856, 1062022, 1238162, 1321333, 1652989, 1668627, 1785644,\n",
       "            1854385, 1860974, 2038544, 2038545, 2038546, 2038547, 2038548,\n",
       "            2038549, 2038550, 2038551, 2200219, 2348268, 2731969, 2740223,\n",
       "            2740225, 2982344, 2993856, 3025633, 3025634, 3025635, 3105229,\n",
       "            3144002, 3186447, 3254238, 3254239, 3352578, 3490722, 3572923,\n",
       "            3611436, 3635973],\n",
       "           dtype='int64')"
      ]
     },
     "execution_count": 5,
     "metadata": {},
     "output_type": "execute_result"
    }
   ],
   "source": [
    "#Vemos dónde están y cuántos son\n",
    "df_train.index[df_train.isnull().any(axis=1)]"
   ]
  },
  {
   "cell_type": "code",
   "execution_count": 6,
   "id": "threaded-instrument",
   "metadata": {},
   "outputs": [
    {
     "data": {
      "text/plain": [
       "customer_id                    97749\n",
       "account_id                     14892\n",
       "device_type                      NaN\n",
       "asset_id                     30357.0\n",
       "tunein         2021-01-16 14:57:00.0\n",
       "tuneout        2021-01-16 15:03:00.0\n",
       "resume                             0\n",
       "Name: 3254239, dtype: object"
      ]
     },
     "execution_count": 6,
     "metadata": {},
     "output_type": "execute_result"
    }
   ],
   "source": [
    "df_train.loc[3254239]"
   ]
  },
  {
   "cell_type": "code",
   "execution_count": 7,
   "id": "tutorial-portuguese",
   "metadata": {},
   "outputs": [
    {
     "data": {
      "text/plain": [
       "False"
      ]
     },
     "execution_count": 7,
     "metadata": {},
     "output_type": "execute_result"
    }
   ],
   "source": [
    "#Como los nulos están siempre en el asset y no me sirve un registro sin asset, los elimino\n",
    "df_train.dropna(inplace=True)\n",
    "df_train.isnull().values.any()"
   ]
  },
  {
   "cell_type": "code",
   "execution_count": 8,
   "id": "productive-arrow",
   "metadata": {},
   "outputs": [],
   "source": [
    "#Como asset es un id, voy a llevarlo a tipo entero\n",
    "df_train['asset_id'] = df_train['asset_id'].astype('int32')"
   ]
  },
  {
   "cell_type": "code",
   "execution_count": 9,
   "id": "informational-sacramento",
   "metadata": {},
   "outputs": [
    {
     "data": {
      "text/plain": [
       "<AxesSubplot:xlabel='asset_id', ylabel='count'>"
      ]
     },
     "execution_count": 9,
     "metadata": {},
     "output_type": "execute_result"
    },
    {
     "data": {
      "image/png": "[encoded data removed]",
      "text/plain": [
       "<Figure size 432x288 with 1 Axes>"
      ]
     },
     "metadata": {},
     "output_type": "display_data"
    }
   ],
   "source": [
    "#Vemos los 10 ítems más vistos\n",
    "import seaborn as sns\n",
    "\n",
    "sns.set_theme(style=\"darkgrid\")\n",
    "sns.countplot(x='asset_id', data=df_train,\n",
    "             order=df_train.asset_id.value_counts().iloc[:10].index)"
   ]
  },
  {
   "cell_type": "raw",
   "id": "another-treasurer",
   "metadata": {},
   "source": [
    "Vemos que los 10 ítems más vistos son: 32732, 16738, 15610, 30357, 4239, 33031, 16133, 10259, 18332, 16517"
   ]
  },
  {
   "cell_type": "code",
   "execution_count": 10,
   "id": "automotive-prayer",
   "metadata": {},
   "outputs": [
    {
     "data": {
      "text/plain": [
       "<AxesSubplot:xlabel='device_type', ylabel='count'>"
      ]
     },
     "execution_count": 10,
     "metadata": {},
     "output_type": "execute_result"
    },
    {
     "data": {
      "image/png": "[encoded data removed]",
      "text/plain": [
       "<Figure size 432x288 with 1 Axes>"
      ]
     },
     "metadata": {},
     "output_type": "display_data"
    }
   ],
   "source": [
    "#Vemos los dispositivos más usados\n",
    "sns.countplot(x='device_type', data=df_train)"
   ]
  },
  {
   "cell_type": "markdown",
   "id": "thrown-child",
   "metadata": {},
   "source": [
    "Vemos que el decodificador es el más usado por mucho"
   ]
  },
  {
   "cell_type": "code",
   "execution_count": 11,
   "id": "level-ideal",
   "metadata": {},
   "outputs": [
    {
     "data": {
      "text/html": [
       "<div>\n",
       "<style scoped>\n",
       "    .dataframe tbody tr th:only-of-type {\n",
       "        vertical-align: middle;\n",
       "    }\n",
       "\n",
       "    .dataframe tbody tr th {\n",
       "        vertical-align: top;\n",
       "    }\n",
       "\n",
       "    .dataframe thead th {\n",
       "        text-align: right;\n",
       "    }\n",
       "</style>\n",
       "<table border=\"1\" class=\"dataframe\">\n",
       "  <thead>\n",
       "    <tr style=\"text-align: right;\">\n",
       "      <th></th>\n",
       "      <th>customer_id</th>\n",
       "      <th>account_id</th>\n",
       "      <th>device_type</th>\n",
       "      <th>asset_id</th>\n",
       "      <th>tunein</th>\n",
       "      <th>tuneout</th>\n",
       "      <th>resume</th>\n",
       "    </tr>\n",
       "  </thead>\n",
       "  <tbody>\n",
       "    <tr>\n",
       "      <th>0</th>\n",
       "      <td>0</td>\n",
       "      <td>90627</td>\n",
       "      <td>STATIONARY</td>\n",
       "      <td>18332</td>\n",
       "      <td>2021-02-18 22:52:00.0</td>\n",
       "      <td>2021-02-18 23:35:00.0</td>\n",
       "      <td>0</td>\n",
       "    </tr>\n",
       "    <tr>\n",
       "      <th>1</th>\n",
       "      <td>0</td>\n",
       "      <td>90627</td>\n",
       "      <td>STATIONARY</td>\n",
       "      <td>24727</td>\n",
       "      <td>2021-03-24 23:17:00.0</td>\n",
       "      <td>2021-03-25 00:01:00.0</td>\n",
       "      <td>0</td>\n",
       "    </tr>\n",
       "    <tr>\n",
       "      <th>2</th>\n",
       "      <td>1</td>\n",
       "      <td>3387</td>\n",
       "      <td>STB</td>\n",
       "      <td>895</td>\n",
       "      <td>2021-03-15 10:05:00.0</td>\n",
       "      <td>2021-03-15 10:23:00.0</td>\n",
       "      <td>0</td>\n",
       "    </tr>\n",
       "    <tr>\n",
       "      <th>3</th>\n",
       "      <td>1</td>\n",
       "      <td>3387</td>\n",
       "      <td>STB</td>\n",
       "      <td>895</td>\n",
       "      <td>2021-03-15 10:23:00.0</td>\n",
       "      <td>2021-03-15 11:18:00.0</td>\n",
       "      <td>1</td>\n",
       "    </tr>\n",
       "    <tr>\n",
       "      <th>4</th>\n",
       "      <td>1</td>\n",
       "      <td>3387</td>\n",
       "      <td>STB</td>\n",
       "      <td>26062</td>\n",
       "      <td>2021-03-16 09:24:00.0</td>\n",
       "      <td>2021-03-16 09:44:00.0</td>\n",
       "      <td>0</td>\n",
       "    </tr>\n",
       "    <tr>\n",
       "      <th>...</th>\n",
       "      <td>...</td>\n",
       "      <td>...</td>\n",
       "      <td>...</td>\n",
       "      <td>...</td>\n",
       "      <td>...</td>\n",
       "      <td>...</td>\n",
       "      <td>...</td>\n",
       "    </tr>\n",
       "    <tr>\n",
       "      <th>3657796</th>\n",
       "      <td>112339</td>\n",
       "      <td>3386</td>\n",
       "      <td>STB</td>\n",
       "      <td>330</td>\n",
       "      <td>2021-03-31 22:10:00.0</td>\n",
       "      <td>2021-03-31 22:22:00.0</td>\n",
       "      <td>0</td>\n",
       "    </tr>\n",
       "    <tr>\n",
       "      <th>3657797</th>\n",
       "      <td>112339</td>\n",
       "      <td>3386</td>\n",
       "      <td>STB</td>\n",
       "      <td>9931</td>\n",
       "      <td>2021-03-31 22:22:00.0</td>\n",
       "      <td>2021-03-31 22:34:00.0</td>\n",
       "      <td>1</td>\n",
       "    </tr>\n",
       "    <tr>\n",
       "      <th>3657798</th>\n",
       "      <td>112339</td>\n",
       "      <td>3386</td>\n",
       "      <td>STB</td>\n",
       "      <td>29929</td>\n",
       "      <td>2021-03-31 22:34:00.0</td>\n",
       "      <td>2021-03-31 22:46:00.0</td>\n",
       "      <td>0</td>\n",
       "    </tr>\n",
       "    <tr>\n",
       "      <th>3657799</th>\n",
       "      <td>112339</td>\n",
       "      <td>3386</td>\n",
       "      <td>STB</td>\n",
       "      <td>29929</td>\n",
       "      <td>2021-03-31 23:09:00.0</td>\n",
       "      <td>2021-03-31 23:13:00.0</td>\n",
       "      <td>1</td>\n",
       "    </tr>\n",
       "    <tr>\n",
       "      <th>3657800</th>\n",
       "      <td>112339</td>\n",
       "      <td>3386</td>\n",
       "      <td>STB</td>\n",
       "      <td>29929</td>\n",
       "      <td>2021-03-31 23:13:00.0</td>\n",
       "      <td>2021-03-31 23:24:00.0</td>\n",
       "      <td>0</td>\n",
       "    </tr>\n",
       "  </tbody>\n",
       "</table>\n",
       "<p>3657750 rows × 7 columns</p>\n",
       "</div>"
      ],
      "text/plain": [
       "         customer_id  account_id device_type  asset_id                 tunein  \\\n",
       "0                  0       90627  STATIONARY     18332  2021-02-18 22:52:00.0   \n",
       "1                  0       90627  STATIONARY     24727  2021-03-24 23:17:00.0   \n",
       "2                  1        3387         STB       895  2021-03-15 10:05:00.0   \n",
       "3                  1        3387         STB       895  2021-03-15 10:23:00.0   \n",
       "4                  1        3387         STB     26062  2021-03-16 09:24:00.0   \n",
       "...              ...         ...         ...       ...                    ...   \n",
       "3657796       112339        3386         STB       330  2021-03-31 22:10:00.0   \n",
       "3657797       112339        3386         STB      9931  2021-03-31 22:22:00.0   \n",
       "3657798       112339        3386         STB     29929  2021-03-31 22:34:00.0   \n",
       "3657799       112339        3386         STB     29929  2021-03-31 23:09:00.0   \n",
       "3657800       112339        3386         STB     29929  2021-03-31 23:13:00.0   \n",
       "\n",
       "                       tuneout  resume  \n",
       "0        2021-02-18 23:35:00.0       0  \n",
       "1        2021-03-25 00:01:00.0       0  \n",
       "2        2021-03-15 10:23:00.0       0  \n",
       "3        2021-03-15 11:18:00.0       1  \n",
       "4        2021-03-16 09:44:00.0       0  \n",
       "...                        ...     ...  \n",
       "3657796  2021-03-31 22:22:00.0       0  \n",
       "3657797  2021-03-31 22:34:00.0       1  \n",
       "3657798  2021-03-31 22:46:00.0       0  \n",
       "3657799  2021-03-31 23:13:00.0       1  \n",
       "3657800  2021-03-31 23:24:00.0       0  \n",
       "\n",
       "[3657750 rows x 7 columns]"
      ]
     },
     "execution_count": 11,
     "metadata": {},
     "output_type": "execute_result"
    }
   ],
   "source": [
    "df_train"
   ]
  },
  {
   "cell_type": "markdown",
   "id": "superior-period",
   "metadata": {},
   "source": [
    "El objetivo de esta parte sería delimitar el target. Vamos a considerar que si el usuario vio más de la mitad del contenido, le gustó."
   ]
  },
  {
   "cell_type": "code",
   "execution_count": 12,
   "id": "scenic-trust",
   "metadata": {},
   "outputs": [],
   "source": [
    "#Cast to timestamp\n",
    "\n",
    "df_train['tunein']= pd.to_datetime(df_train['tunein'], format='%Y-%m-%d %H:%M:%S')\n",
    "df_train['tuneout']= pd.to_datetime(df_train['tuneout'], format='%Y-%m-%d %H:%M:%S')"
   ]
  },
  {
   "cell_type": "code",
   "execution_count": 13,
   "id": "unique-basin",
   "metadata": {},
   "outputs": [],
   "source": [
    "df_train['minVisualizados'] = df_train['tuneout']-df_train['tunein']"
   ]
  },
  {
   "cell_type": "code",
   "execution_count": 16,
   "id": "drawn-gambling",
   "metadata": {},
   "outputs": [],
   "source": [
    "df_train['minVisualizados']= df_train['minVisualizados'].dt.total_seconds().div(60).astype(int)"
   ]
  },
  {
   "cell_type": "code",
   "execution_count": 18,
   "id": "binding-dylan",
   "metadata": {},
   "outputs": [],
   "source": [
    "dfMeta = pd.read_csv(r'C:\\Users\\MegaTecnologia\\Desktop\\DesafioTelecom\\Data\\metadata.csv',\n",
    "                      sep=\";\")"
   ]
  },
  {
   "cell_type": "code",
   "execution_count": 19,
   "id": "lesbian-stuart",
   "metadata": {},
   "outputs": [],
   "source": [
    "dfMetaMinutos = dfMeta[['asset_id', 'run_time_min']]"
   ]
  },
  {
   "cell_type": "code",
   "execution_count": 20,
   "id": "valued-lottery",
   "metadata": {},
   "outputs": [],
   "source": [
    "#Cast run_time_min to compare same datatype columns\n",
    "dfMetaMinutos = dfMetaMinutos.astype({'run_time_min':'int'})"
   ]
  },
  {
   "cell_type": "code",
   "execution_count": 23,
   "id": "touched-laundry",
   "metadata": {},
   "outputs": [
    {
     "data": {
      "text/html": [
       "<div>\n",
       "<style scoped>\n",
       "    .dataframe tbody tr th:only-of-type {\n",
       "        vertical-align: middle;\n",
       "    }\n",
       "\n",
       "    .dataframe tbody tr th {\n",
       "        vertical-align: top;\n",
       "    }\n",
       "\n",
       "    .dataframe thead th {\n",
       "        text-align: right;\n",
       "    }\n",
       "</style>\n",
       "<table border=\"1\" class=\"dataframe\">\n",
       "  <thead>\n",
       "    <tr style=\"text-align: right;\">\n",
       "      <th></th>\n",
       "      <th>customer_id</th>\n",
       "      <th>account_id</th>\n",
       "      <th>device_type</th>\n",
       "      <th>asset_id</th>\n",
       "      <th>tunein</th>\n",
       "      <th>tuneout</th>\n",
       "      <th>resume</th>\n",
       "      <th>minVisualizados</th>\n",
       "      <th>run_time_min</th>\n",
       "    </tr>\n",
       "  </thead>\n",
       "  <tbody>\n",
       "    <tr>\n",
       "      <th>0</th>\n",
       "      <td>0</td>\n",
       "      <td>90627</td>\n",
       "      <td>STATIONARY</td>\n",
       "      <td>18332</td>\n",
       "      <td>2021-02-18 22:52:00</td>\n",
       "      <td>2021-02-18 23:35:00</td>\n",
       "      <td>0</td>\n",
       "      <td>43</td>\n",
       "      <td>43</td>\n",
       "    </tr>\n",
       "    <tr>\n",
       "      <th>1</th>\n",
       "      <td>3</td>\n",
       "      <td>3389</td>\n",
       "      <td>CLOUD_CLIENT</td>\n",
       "      <td>18332</td>\n",
       "      <td>2021-02-27 16:25:00</td>\n",
       "      <td>2021-02-27 17:05:00</td>\n",
       "      <td>0</td>\n",
       "      <td>40</td>\n",
       "      <td>43</td>\n",
       "    </tr>\n",
       "    <tr>\n",
       "      <th>2</th>\n",
       "      <td>11</td>\n",
       "      <td>3395</td>\n",
       "      <td>STATIONARY</td>\n",
       "      <td>18332</td>\n",
       "      <td>2021-02-24 17:24:00</td>\n",
       "      <td>2021-02-24 18:10:00</td>\n",
       "      <td>0</td>\n",
       "      <td>46</td>\n",
       "      <td>43</td>\n",
       "    </tr>\n",
       "    <tr>\n",
       "      <th>3</th>\n",
       "      <td>13</td>\n",
       "      <td>26042</td>\n",
       "      <td>PHONE</td>\n",
       "      <td>18332</td>\n",
       "      <td>2021-02-24 21:56:00</td>\n",
       "      <td>2021-02-24 22:44:00</td>\n",
       "      <td>0</td>\n",
       "      <td>48</td>\n",
       "      <td>43</td>\n",
       "    </tr>\n",
       "    <tr>\n",
       "      <th>4</th>\n",
       "      <td>35</td>\n",
       "      <td>26060</td>\n",
       "      <td>STB</td>\n",
       "      <td>18332</td>\n",
       "      <td>2021-02-19 15:10:00</td>\n",
       "      <td>2021-02-19 15:15:00</td>\n",
       "      <td>1</td>\n",
       "      <td>5</td>\n",
       "      <td>43</td>\n",
       "    </tr>\n",
       "    <tr>\n",
       "      <th>...</th>\n",
       "      <td>...</td>\n",
       "      <td>...</td>\n",
       "      <td>...</td>\n",
       "      <td>...</td>\n",
       "      <td>...</td>\n",
       "      <td>...</td>\n",
       "      <td>...</td>\n",
       "      <td>...</td>\n",
       "      <td>...</td>\n",
       "    </tr>\n",
       "    <tr>\n",
       "      <th>3657745</th>\n",
       "      <td>111822</td>\n",
       "      <td>25640</td>\n",
       "      <td>STB</td>\n",
       "      <td>15863</td>\n",
       "      <td>2021-03-16 00:25:00</td>\n",
       "      <td>2021-03-16 00:28:00</td>\n",
       "      <td>1</td>\n",
       "      <td>3</td>\n",
       "      <td>110</td>\n",
       "    </tr>\n",
       "    <tr>\n",
       "      <th>3657746</th>\n",
       "      <td>111822</td>\n",
       "      <td>25640</td>\n",
       "      <td>STB</td>\n",
       "      <td>15598</td>\n",
       "      <td>2021-03-26 01:11:00</td>\n",
       "      <td>2021-03-26 02:22:00</td>\n",
       "      <td>1</td>\n",
       "      <td>71</td>\n",
       "      <td>107</td>\n",
       "    </tr>\n",
       "    <tr>\n",
       "      <th>3657747</th>\n",
       "      <td>111822</td>\n",
       "      <td>25640</td>\n",
       "      <td>STB</td>\n",
       "      <td>22513</td>\n",
       "      <td>2021-03-27 03:56:00</td>\n",
       "      <td>2021-03-27 05:05:00</td>\n",
       "      <td>1</td>\n",
       "      <td>69</td>\n",
       "      <td>107</td>\n",
       "    </tr>\n",
       "    <tr>\n",
       "      <th>3657748</th>\n",
       "      <td>111988</td>\n",
       "      <td>25777</td>\n",
       "      <td>PHONE</td>\n",
       "      <td>24720</td>\n",
       "      <td>2021-02-05 11:54:00</td>\n",
       "      <td>2021-02-05 11:57:00</td>\n",
       "      <td>0</td>\n",
       "      <td>3</td>\n",
       "      <td>89</td>\n",
       "    </tr>\n",
       "    <tr>\n",
       "      <th>3657749</th>\n",
       "      <td>112146</td>\n",
       "      <td>25898</td>\n",
       "      <td>STB</td>\n",
       "      <td>22633</td>\n",
       "      <td>2021-03-27 15:01:00</td>\n",
       "      <td>2021-03-27 15:04:00</td>\n",
       "      <td>1</td>\n",
       "      <td>3</td>\n",
       "      <td>56</td>\n",
       "    </tr>\n",
       "  </tbody>\n",
       "</table>\n",
       "<p>3657750 rows × 9 columns</p>\n",
       "</div>"
      ],
      "text/plain": [
       "         customer_id  account_id   device_type  asset_id              tunein  \\\n",
       "0                  0       90627    STATIONARY     18332 2021-02-18 22:52:00   \n",
       "1                  3        3389  CLOUD_CLIENT     18332 2021-02-27 16:25:00   \n",
       "2                 11        3395    STATIONARY     18332 2021-02-24 17:24:00   \n",
       "3                 13       26042         PHONE     18332 2021-02-24 21:56:00   \n",
       "4                 35       26060           STB     18332 2021-02-19 15:10:00   \n",
       "...              ...         ...           ...       ...                 ...   \n",
       "3657745       111822       25640           STB     15863 2021-03-16 00:25:00   \n",
       "3657746       111822       25640           STB     15598 2021-03-26 01:11:00   \n",
       "3657747       111822       25640           STB     22513 2021-03-27 03:56:00   \n",
       "3657748       111988       25777         PHONE     24720 2021-02-05 11:54:00   \n",
       "3657749       112146       25898           STB     22633 2021-03-27 15:01:00   \n",
       "\n",
       "                    tuneout  resume  minVisualizados  run_time_min  \n",
       "0       2021-02-18 23:35:00       0               43            43  \n",
       "1       2021-02-27 17:05:00       0               40            43  \n",
       "2       2021-02-24 18:10:00       0               46            43  \n",
       "3       2021-02-24 22:44:00       0               48            43  \n",
       "4       2021-02-19 15:15:00       1                5            43  \n",
       "...                     ...     ...              ...           ...  \n",
       "3657745 2021-03-16 00:28:00       1                3           110  \n",
       "3657746 2021-03-26 02:22:00       1               71           107  \n",
       "3657747 2021-03-27 05:05:00       1               69           107  \n",
       "3657748 2021-02-05 11:57:00       0                3            89  \n",
       "3657749 2021-03-27 15:04:00       1                3            56  \n",
       "\n",
       "[3657750 rows x 9 columns]"
      ]
     },
     "execution_count": 23,
     "metadata": {},
     "output_type": "execute_result"
    }
   ],
   "source": [
    "#Merge the two DF in one \n",
    "result =pd.merge(df_train,dfMetaMinutos, how='inner',on ='asset_id')\n",
    "result"
   ]
  },
  {
   "cell_type": "code",
   "execution_count": 24,
   "id": "serial-landscape",
   "metadata": {},
   "outputs": [],
   "source": [
    "result['target'] = ((result.minVisualizados > result.run_time_min*0.5)*1 )"
   ]
  },
  {
   "cell_type": "code",
   "execution_count": 25,
   "id": "united-imaging",
   "metadata": {},
   "outputs": [
    {
     "data": {
      "text/plain": [
       "1    1991920\n",
       "0    1665830\n",
       "Name: target, dtype: int64"
      ]
     },
     "execution_count": 25,
     "metadata": {},
     "output_type": "execute_result"
    }
   ],
   "source": [
    "#Comprobamos el balanceo de las clases\n",
    "result.target.value_counts()"
   ]
  },
  {
   "cell_type": "code",
   "execution_count": 26,
   "id": "photographic-bidding",
   "metadata": {},
   "outputs": [],
   "source": [
    "result.to_csv('train_w_target.csv')"
   ]
  }
 ],
 "metadata": {
  "kernelspec": {
   "display_name": "Python 3",
   "language": "python",
   "name": "python3"
  },
  "language_info": {
   "codemirror_mode": {
    "name": "ipython",
    "version": 3
   },
   "file_extension": ".py",
   "mimetype": "text/x-python",
   "name": "python",
   "nbconvert_exporter": "python",
   "pygments_lexer": "ipython3",
   "version": "3.8.5"
  }
 },
 "nbformat": 4,
 "nbformat_minor": 5
}
